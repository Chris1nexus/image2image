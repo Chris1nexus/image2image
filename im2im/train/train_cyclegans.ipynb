{
 "cells": [
  {
   "cell_type": "code",
   "execution_count": null,
   "id": "409b4d8c",
   "metadata": {},
   "outputs": [],
   "source": [
    "# your wandb api login key\n",
    "wandb_api_key = ...  #@param {type:\"string\"}\n",
    "assert wandb_api_key != \"\", \"It is important to track training progress with WANDB\"\n",
    "from huggingface_hub.hf_api import HfApi\n",
    "import os\n",
    "os.environ['WANDB_API_KEY'] = wandb_api_key\n",
    "hfapi = HfApi()\n",
    "\n",
    "# your huggingface login api key\n",
    "token = ...\n",
    "assert token is not None and token != \"\", \"It is important to track training progress with WANDB\"\n",
    "\n",
    "hfapi.set_access_token(token)\n",
    "!mkdir /root/.huggingface -p\n",
    "\n",
    "with open(\"/root/.huggingface/token\", \"w+\") as text_file:\n",
    "    text_file.write(token)\n"
   ]
  },
  {
   "cell_type": "code",
   "execution_count": null,
   "id": "e96a2406",
   "metadata": {},
   "outputs": [],
   "source": [
    "!accelerate config"
   ]
  },
  {
   "cell_type": "markdown",
   "id": "020aca4f",
   "metadata": {},
   "source": [
    "# Train model"
   ]
  },
  {
   "cell_type": "code",
   "execution_count": null,
   "id": "b4634e63",
   "metadata": {},
   "outputs": [],
   "source": [
    "from sklearn.model_selection import ParameterGrid\n",
    "from subprocess import call\n",
    "import os\n",
    "\n",
    "\n",
    "datasetA_ORGANIZATION = ...\n",
    "datasetB_ORGANIZATION = ...\n",
    "datasetA = ''\n",
    "datasetB = ''\n",
    "# root destination to which the trained models will be pushed to \n",
    "DEST_ORGANIZATION = ...\n",
    "hyperparams_cyclegan = { \n",
    "                'lr':[0.0002], \n",
    "                'num_epochs':[200], \n",
    "                'decay_epoch':[80] ,\n",
    "                'n_residual_blocks':[9], \n",
    "                'lambda_cyc':[10.0], \n",
    "                'lambda_id':[5.0], \n",
    "                'beta1':[0.5], 'beta2':[0.999], \n",
    "                'batch_size':[8], \n",
    "                'source_dataset_name':[f'{datasetA_ORGANIZATION}/{collectionA}'],\n",
    "                'target_dataset_name':[f'{datasetB_ORGANIZATION}/{collectionB}'],\n",
    "                'channels':[3], \n",
    "                'checkpoint_interval':[5], \n",
    "                #'cpu':[False], \n",
    "                'epoch':[0], \n",
    "                #'fp16':[False], \n",
    "                'image_size':[256],\n",
    "                'mixed_precision':['no'], \n",
    "                'num_workers':[8], \n",
    "                'organization_name':[DEST_ORGANIZATION], \n",
    "                'wandb':[True],\n",
    "                'push_to_hub':[True], \n",
    "                'sample_interval':[10] }\n",
    "\n",
    "call_params = ['accelerate', 'launch',\n",
    "                       '--config_file','~/.cache/huggingface/accelerate/default_config.yaml',\n",
    "                       'train.py']\n",
    "for idx, grid in enumerate(ParameterGrid(hyperparams_cyclegan)):\n",
    "        grid['output_dir'] = 'experiments'\n",
    "\n",
    "        \n",
    "for k,v in grid.items():\n",
    "\n",
    "            if k in  ['cpu', 'wandb','fp16','push_to_hub']:\n",
    "                if v is True:\n",
    "                    call_params.append(f'--{k}' )\n",
    "            else:\n",
    "                call_params.append(f'--{k}' )\n",
    "                call_params.append(f'{v}' )\n",
    "\n",
    "        print(' '.join(call_params))\n",
    "        call(call_params)"
   ]
  }
 ],
 "metadata": {
  "kernelspec": {
   "display_name": "hugenv",
   "language": "python",
   "name": "hugenv"
  },
  "language_info": {
   "codemirror_mode": {
    "name": "ipython",
    "version": 3
   },
   "file_extension": ".py",
   "mimetype": "text/x-python",
   "name": "python",
   "nbconvert_exporter": "python",
   "pygments_lexer": "ipython3",
   "version": "3.8.10"
  }
 },
 "nbformat": 4,
 "nbformat_minor": 5
}
